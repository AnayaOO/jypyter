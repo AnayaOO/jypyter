{
 "cells": [
  {
   "cell_type": "code",
   "execution_count": null,
   "id": "39f09f5e",
   "metadata": {},
   "outputs": [],
   "source": [
    "import tkinter as tk\n",
    "from tkinter import ttk\n",
    "from tkinter import*\n",
    "\n",
    "RegistrationForm=Tk()\n",
    "RegistrationForm.geometry(\"600x300\")\n",
    "\n",
    "#Entry Box\n",
    "a=name=tk.StringVar()\n",
    "a=name_entered=tk.Entry(RegistrationForm,width=24, textvariable=name)\n",
    "a=name_entered.grid(column=2,row=1, columnspan=1)\n",
    "b=email=tk.StringVar()\n",
    "b=email_entered=tk.Entry(RegistrationForm,width=24, textvariable=email)\n",
    "b=email_entered.grid(column=2,row=2, columnspan=1)\n",
    "\n",
    "v=IntVar()\n",
    "tk.Radiobutton(RegistrationForm,text=\"Male\",variable=v,value=1).grid(row=3,column=2, columnspan=1)\n",
    "tk.Radiobutton(RegistrationForm,text=\"Female\",variable=v,value=2).grid(row=3,column=3, columnspan=1)\n",
    "Select_your_country=tk.StringVar()\n",
    "Country_choosen=ttk.Combobox(RegistrationForm,width=24,textvariable=Select_your_country)\n",
    "\n",
    "# Dictionary with options\n",
    "Country_choosen['values'] = [\"Pakistan\", \"America\", \"Canada\", \"Malaysia\", \"Abu Dhabi\"]\n",
    "Country_choosen.grid(column=2,row=4)\n",
    "Country_choosen.set('Pakistan') # set the default option\n",
    "Country_choosen = OptionMenu(RegistrationForm, Select_your_country, *choices)\n",
    "# on change dropdown value\n",
    "def change_dropdown(*args):\n",
    "    print( Select_your_country.get() )  \n",
    "# link function to change dropdown\n",
    "Select_your_country.trace('w', change_dropdown)\n",
    "\n",
    "var1=IntVar()\n",
    "check1=Checkbutton(RegistrationForm,text=\"Java\",variable=var1)\n",
    "check1.select()\n",
    "check1.grid(row=5, column = 2, columnspan=1)\n",
    "var2=IntVar()\n",
    "check2=Checkbutton(RegistrationForm,text=\"Python\",variable=var2)\n",
    "check2.deselect()\n",
    "check2.grid(row=5, column = 3, columnspan=1)\n",
    "\n",
    "#Lable\n",
    "a=Label(RegistrationForm,text=\"Registration Form\",width=20,font=(\"bold\", 20), fg=\"black\").grid(column=0,row=0)\n",
    "b=tk.Label(RegistrationForm,text=\"Full name\", fg=\"black\").grid(column=0,row=1)\n",
    "c=tk.Label(RegistrationForm,text=\"Email\",  fg=\"black\").grid(column=0,row=2)\n",
    "d=tk.Label(RegistrationForm,text=\"Gender\", fg=\"black\").grid(column=0,row=3)\n",
    "e=tk.Label(RegistrationForm,text=\"Country\", fg=\"black\").grid(column=0,row=4)\n",
    "f=tk.Label(RegistrationForm,text=\"Programming\", fg=\"black\").grid(column=0,row=5)\n",
    "\n",
    "#Button with Command\n",
    "def Submit():\n",
    "    btn.configure(text=\"Successful registration\")\n",
    "   \n",
    "\n",
    "btn=tk.Button(RegistrationForm, text=\"Submit\", bg=\"red\",fg=\"white\",command=Submit)\n",
    "btn.grid(column=0,row=9)\n",
    "\n",
    "RegistrationForm.mainloop()"
   ]
  },
  {
   "cell_type": "code",
   "execution_count": null,
   "id": "8cc74aa8",
   "metadata": {},
   "outputs": [],
   "source": []
  },
  {
   "cell_type": "code",
   "execution_count": null,
   "id": "2a021a0b",
   "metadata": {},
   "outputs": [],
   "source": []
  }
 ],
 "metadata": {
  "kernelspec": {
   "display_name": "Python 3 (ipykernel)",
   "language": "python",
   "name": "python3"
  },
  "language_info": {
   "codemirror_mode": {
    "name": "ipython",
    "version": 3
   },
   "file_extension": ".py",
   "mimetype": "text/x-python",
   "name": "python",
   "nbconvert_exporter": "python",
   "pygments_lexer": "ipython3",
   "version": "3.8.7"
  }
 },
 "nbformat": 4,
 "nbformat_minor": 5
}
